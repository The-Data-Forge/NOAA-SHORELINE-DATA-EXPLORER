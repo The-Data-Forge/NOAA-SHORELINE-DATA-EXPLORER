{
 "cells": [
  {
   "cell_type": "code",
   "execution_count": 1,
   "metadata": {},
   "outputs": [],
   "source": [
    "# !pip install pandas\n",
    "# !pip install geopandas\n",
    "# !pip install matplotlib\n",
    "# !pip install dbfread\n",
    "# !pip install pyproj"
   ]
  },
  {
   "cell_type": "code",
   "execution_count": 18,
   "metadata": {},
   "outputs": [],
   "source": [
    "from dbfread import DBF\n",
    "from pyproj import CRS, Transformer\n",
    "import pandas as pd\n",
    "import geopandas as gpd"
   ]
  },
  {
   "cell_type": "markdown",
   "metadata": {},
   "source": [
    "---\n",
    "\n",
    "#### Shapefile\n",
    "\n",
    "Contem dados geométricos.\n",
    "Precisa da biblioteca geopandas para manitular os dados\n"
   ]
  },
  {
   "cell_type": "code",
   "execution_count": null,
   "metadata": {},
   "outputs": [
    {
     "data": {
      "text/html": [
       "<div>\n",
       "<style scoped>\n",
       "    .dataframe tbody tr th:only-of-type {\n",
       "        vertical-align: middle;\n",
       "    }\n",
       "\n",
       "    .dataframe tbody tr th {\n",
       "        vertical-align: top;\n",
       "    }\n",
       "\n",
       "    .dataframe thead th {\n",
       "        text-align: right;\n",
       "    }\n",
       "</style>\n",
       "<table border=\"1\" class=\"dataframe\">\n",
       "  <thead>\n",
       "    <tr style=\"text-align: right;\">\n",
       "      <th></th>\n",
       "      <th>Status</th>\n",
       "      <th>Acquisitn</th>\n",
       "      <th>Type</th>\n",
       "      <th>geometry</th>\n",
       "    </tr>\n",
       "  </thead>\n",
       "  <tbody>\n",
       "    <tr>\n",
       "      <th>0</th>\n",
       "      <td>In-Waiting</td>\n",
       "      <td>SC1801-CM-N</td>\n",
       "      <td>CM</td>\n",
       "      <td>POLYGON ((-79.04048 33.7138, -79.04562 33.6915...</td>\n",
       "    </tr>\n",
       "    <tr>\n",
       "      <th>1</th>\n",
       "      <td>Intended</td>\n",
       "      <td>WA1803-CM-N</td>\n",
       "      <td>CM</td>\n",
       "      <td>MULTIPOLYGON (((-123.03763 48.99952, -123.0376...</td>\n",
       "    </tr>\n",
       "    <tr>\n",
       "      <th>2</th>\n",
       "      <td>Potential</td>\n",
       "      <td>WA19A - Oute</td>\n",
       "      <td>CM</td>\n",
       "      <td>POLYGON ((-124.65259 48.39105, -124.63684 48.3...</td>\n",
       "    </tr>\n",
       "    <tr>\n",
       "      <th>3</th>\n",
       "      <td>Potential</td>\n",
       "      <td>WA19B - Colu</td>\n",
       "      <td>CM</td>\n",
       "      <td>POLYGON ((-124.00725 46.26307, -123.9778 46.30...</td>\n",
       "    </tr>\n",
       "    <tr>\n",
       "      <th>4</th>\n",
       "      <td>In-Waiting</td>\n",
       "      <td>TX1901-CM-N</td>\n",
       "      <td>CM</td>\n",
       "      <td>POLYGON ((-97.24819 27.92284, -97.24217 27.913...</td>\n",
       "    </tr>\n",
       "  </tbody>\n",
       "</table>\n",
       "</div>"
      ],
      "text/plain": [
       "       Status     Acquisitn Type  \\\n",
       "0  In-Waiting   SC1801-CM-N   CM   \n",
       "1    Intended   WA1803-CM-N   CM   \n",
       "2   Potential  WA19A - Oute   CM   \n",
       "3   Potential  WA19B - Colu   CM   \n",
       "4  In-Waiting   TX1901-CM-N   CM   \n",
       "\n",
       "                                            geometry  \n",
       "0  POLYGON ((-79.04048 33.7138, -79.04562 33.6915...  \n",
       "1  MULTIPOLYGON (((-123.03763 48.99952, -123.0376...  \n",
       "2  POLYGON ((-124.65259 48.39105, -124.63684 48.3...  \n",
       "3  POLYGON ((-124.00725 46.26307, -123.9778 46.30...  \n",
       "4  POLYGON ((-97.24819 27.92284, -97.24217 27.913...  "
      ]
     },
     "execution_count": 3,
     "metadata": {},
     "output_type": "execute_result"
    }
   ],
   "source": [
    "shapefile = gpd.read_file(\"CUSP_IN_PROGRESS/CUSP_IN_PROGRESS.shp\")\n",
    "shapefile.head()"
   ]
  },
  {
   "cell_type": "code",
   "execution_count": null,
   "metadata": {},
   "outputs": [
    {
     "name": "stdout",
     "output_type": "stream",
     "text": [
      "<class 'pandas.core.frame.DataFrame'>\n",
      "RangeIndex: 91 entries, 0 to 90\n",
      "Data columns (total 4 columns):\n",
      " #   Column     Non-Null Count  Dtype   \n",
      "---  ------     --------------  -----   \n",
      " 0   Status     91 non-null     object  \n",
      " 1   Acquisitn  91 non-null     object  \n",
      " 2   Type       91 non-null     object  \n",
      " 3   geometry   91 non-null     geometry\n",
      "dtypes: geometry(1), object(3)\n",
      "memory usage: 3.0+ KB\n"
     ]
    }
   ],
   "source": [
    "# Salvar em um arquivo CSV, mais simples de vizualizar os dados\n",
    "df_shapefile = pd.DataFrame(shapefile)\n",
    "df_shapefile.to_csv(\"shapefile.csv\")\n",
    "df_shapefile.info()"
   ]
  },
  {
   "cell_type": "code",
   "execution_count": 5,
   "metadata": {},
   "outputs": [
    {
     "data": {
      "text/plain": [
       "<Geographic 2D CRS: EPSG:4269>\n",
       "Name: NAD83\n",
       "Axis Info [ellipsoidal]:\n",
       "- Lat[north]: Geodetic latitude (degree)\n",
       "- Lon[east]: Geodetic longitude (degree)\n",
       "Area of Use:\n",
       "- name: North America - onshore and offshore: Canada - Alberta; British Columbia; Manitoba; New Brunswick; Newfoundland and Labrador; Northwest Territories; Nova Scotia; Nunavut; Ontario; Prince Edward Island; Quebec; Saskatchewan; Yukon. Puerto Rico. United States (USA) - Alabama; Alaska; Arizona; Arkansas; California; Colorado; Connecticut; Delaware; Florida; Georgia; Hawaii; Idaho; Illinois; Indiana; Iowa; Kansas; Kentucky; Louisiana; Maine; Maryland; Massachusetts; Michigan; Minnesota; Mississippi; Missouri; Montana; Nebraska; Nevada; New Hampshire; New Jersey; New Mexico; New York; North Carolina; North Dakota; Ohio; Oklahoma; Oregon; Pennsylvania; Rhode Island; South Carolina; South Dakota; Tennessee; Texas; Utah; Vermont; Virginia; Washington; West Virginia; Wisconsin; Wyoming. US Virgin Islands. British Virgin Islands.\n",
       "- bounds: (167.65, 14.92, -40.73, 86.45)\n",
       "Datum: North American Datum 1983\n",
       "- Ellipsoid: GRS 1980\n",
       "- Prime Meridian: Greenwich"
      ]
     },
     "execution_count": 5,
     "metadata": {},
     "output_type": "execute_result"
    }
   ],
   "source": [
    "shapefile.crs"
   ]
  },
  {
   "cell_type": "code",
   "execution_count": 6,
   "metadata": {},
   "outputs": [
    {
     "data": {
      "text/plain": [
       "<Axes: >"
      ]
     },
     "execution_count": 6,
     "metadata": {},
     "output_type": "execute_result"
    },
    {
     "data": {
      "image/png": "[encoded data removed]",
      "text/plain": [
       "<Figure size 640x480 with 1 Axes>"
      ]
     },
     "metadata": {},
     "output_type": "display_data"
    }
   ],
   "source": [
    "shapefile.plot()"
   ]
  },
  {
   "cell_type": "markdown",
   "metadata": {},
   "source": [
    "---\n",
    "\n",
    "#### DataBase File\n",
    "\n",
    "Para ler o arquivo '.dbf' será usado o pandas e o dbfread.\n"
   ]
  },
  {
   "cell_type": "code",
   "execution_count": 7,
   "metadata": {},
   "outputs": [
    {
     "name": "stdout",
     "output_type": "stream",
     "text": [
      "<class 'pandas.core.frame.DataFrame'>\n",
      "RangeIndex: 91 entries, 0 to 90\n",
      "Data columns (total 3 columns):\n",
      " #   Column     Non-Null Count  Dtype \n",
      "---  ------     --------------  ----- \n",
      " 0   Status     91 non-null     object\n",
      " 1   Acquisitn  91 non-null     object\n",
      " 2   Type       91 non-null     object\n",
      "dtypes: object(3)\n",
      "memory usage: 2.3+ KB\n"
     ]
    },
    {
     "data": {
      "text/html": [
       "<div>\n",
       "<style scoped>\n",
       "    .dataframe tbody tr th:only-of-type {\n",
       "        vertical-align: middle;\n",
       "    }\n",
       "\n",
       "    .dataframe tbody tr th {\n",
       "        vertical-align: top;\n",
       "    }\n",
       "\n",
       "    .dataframe thead th {\n",
       "        text-align: right;\n",
       "    }\n",
       "</style>\n",
       "<table border=\"1\" class=\"dataframe\">\n",
       "  <thead>\n",
       "    <tr style=\"text-align: right;\">\n",
       "      <th></th>\n",
       "      <th>Status</th>\n",
       "      <th>Acquisitn</th>\n",
       "      <th>Type</th>\n",
       "    </tr>\n",
       "  </thead>\n",
       "  <tbody>\n",
       "    <tr>\n",
       "      <th>0</th>\n",
       "      <td>In-Waiting</td>\n",
       "      <td>SC1801-CM-N</td>\n",
       "      <td>CM</td>\n",
       "    </tr>\n",
       "    <tr>\n",
       "      <th>1</th>\n",
       "      <td>Intended</td>\n",
       "      <td>WA1803-CM-N</td>\n",
       "      <td>CM</td>\n",
       "    </tr>\n",
       "    <tr>\n",
       "      <th>2</th>\n",
       "      <td>Potential</td>\n",
       "      <td>WA19A - Oute</td>\n",
       "      <td>CM</td>\n",
       "    </tr>\n",
       "    <tr>\n",
       "      <th>3</th>\n",
       "      <td>Potential</td>\n",
       "      <td>WA19B - Colu</td>\n",
       "      <td>CM</td>\n",
       "    </tr>\n",
       "    <tr>\n",
       "      <th>4</th>\n",
       "      <td>In-Waiting</td>\n",
       "      <td>TX1901-CM-N</td>\n",
       "      <td>CM</td>\n",
       "    </tr>\n",
       "  </tbody>\n",
       "</table>\n",
       "</div>"
      ],
      "text/plain": [
       "       Status     Acquisitn Type\n",
       "0  In-Waiting   SC1801-CM-N   CM\n",
       "1    Intended   WA1803-CM-N   CM\n",
       "2   Potential  WA19A - Oute   CM\n",
       "3   Potential  WA19B - Colu   CM\n",
       "4  In-Waiting   TX1901-CM-N   CM"
      ]
     },
     "execution_count": 7,
     "metadata": {},
     "output_type": "execute_result"
    }
   ],
   "source": [
    "dado_tabulados = DBF(\"CUSP_IN_PROGRESS/CUSP_IN_PROGRESS.dbf\")\n",
    "df_dados_tabulados = pd.DataFrame(dado_tabulados)\n",
    "df_dados_tabulados.info()\n",
    "df_dados_tabulados.head()"
   ]
  },
  {
   "cell_type": "markdown",
   "metadata": {},
   "source": [
    "Tanto o arquivo '.shp' quanto '.dbf' possuem 91 linhas, todas preenchidas\n"
   ]
  },
  {
   "cell_type": "code",
   "execution_count": null,
   "metadata": {},
   "outputs": [
    {
     "name": "stdout",
     "output_type": "stream",
     "text": [
      "<class 'pandas.core.frame.DataFrame'>\n",
      "Index: 182 entries, 0 to 90\n",
      "Data columns (total 4 columns):\n",
      " #   Column     Non-Null Count  Dtype \n",
      "---  ------     --------------  ----- \n",
      " 0   Status     182 non-null    object\n",
      " 1   Acquisitn  182 non-null    object\n",
      " 2   Type       182 non-null    object\n",
      " 3   origem     182 non-null    object\n",
      "dtypes: object(4)\n",
      "memory usage: 7.1+ KB\n"
     ]
    }
   ],
   "source": [
    "df_comum_shp = df_shapefile[[\"Status\", \"Acquisitn\", \"Type\"]]\n",
    "df_comum_shp[\"origem\"] = \"ShapeFile\"\n",
    "df_comum_dbf = df_dados_tabulados[[\"Status\", \"Acquisitn\", \"Type\"]]\n",
    "df_comum_dbf[\"origem\"] = \"DataBaseFile\"\n",
    "df_comum_dbf_shp = pd.concat([df_comum_dbf, df_comum_shp])\n",
    "df_comum_dbf_shp.info()"
   ]
  },
  {
   "cell_type": "code",
   "execution_count": 9,
   "metadata": {},
   "outputs": [
    {
     "name": "stdout",
     "output_type": "stream",
     "text": [
      "<class 'pandas.core.frame.DataFrame'>\n",
      "Index: 182 entries, 0 to 90\n",
      "Data columns (total 5 columns):\n",
      " #   Column     Non-Null Count  Dtype \n",
      "---  ------     --------------  ----- \n",
      " 0   Status     182 non-null    object\n",
      " 1   Acquisitn  182 non-null    object\n",
      " 2   Type       182 non-null    object\n",
      " 3   origem     182 non-null    object\n",
      " 4   chave      182 non-null    object\n",
      "dtypes: object(5)\n",
      "memory usage: 8.5+ KB\n"
     ]
    },
    {
     "data": {
      "text/html": [
       "<div>\n",
       "<style scoped>\n",
       "    .dataframe tbody tr th:only-of-type {\n",
       "        vertical-align: middle;\n",
       "    }\n",
       "\n",
       "    .dataframe tbody tr th {\n",
       "        vertical-align: top;\n",
       "    }\n",
       "\n",
       "    .dataframe thead th {\n",
       "        text-align: right;\n",
       "    }\n",
       "</style>\n",
       "<table border=\"1\" class=\"dataframe\">\n",
       "  <thead>\n",
       "    <tr style=\"text-align: right;\">\n",
       "      <th></th>\n",
       "      <th>Status</th>\n",
       "      <th>Acquisitn</th>\n",
       "      <th>Type</th>\n",
       "      <th>origem</th>\n",
       "      <th>chave</th>\n",
       "    </tr>\n",
       "  </thead>\n",
       "  <tbody>\n",
       "    <tr>\n",
       "      <th>0</th>\n",
       "      <td>In-Waiting</td>\n",
       "      <td>SC1801-CM-N</td>\n",
       "      <td>CM</td>\n",
       "      <td>DataBaseFile</td>\n",
       "      <td>In-Waiting-SC1801-CM-N-CM</td>\n",
       "    </tr>\n",
       "    <tr>\n",
       "      <th>1</th>\n",
       "      <td>Intended</td>\n",
       "      <td>WA1803-CM-N</td>\n",
       "      <td>CM</td>\n",
       "      <td>DataBaseFile</td>\n",
       "      <td>Intended-WA1803-CM-N-CM</td>\n",
       "    </tr>\n",
       "    <tr>\n",
       "      <th>2</th>\n",
       "      <td>Potential</td>\n",
       "      <td>WA19A - Oute</td>\n",
       "      <td>CM</td>\n",
       "      <td>DataBaseFile</td>\n",
       "      <td>Potential-WA19A - Oute-CM</td>\n",
       "    </tr>\n",
       "    <tr>\n",
       "      <th>3</th>\n",
       "      <td>Potential</td>\n",
       "      <td>WA19B - Colu</td>\n",
       "      <td>CM</td>\n",
       "      <td>DataBaseFile</td>\n",
       "      <td>Potential-WA19B - Colu-CM</td>\n",
       "    </tr>\n",
       "    <tr>\n",
       "      <th>4</th>\n",
       "      <td>In-Waiting</td>\n",
       "      <td>TX1901-CM-N</td>\n",
       "      <td>CM</td>\n",
       "      <td>DataBaseFile</td>\n",
       "      <td>In-Waiting-TX1901-CM-N-CM</td>\n",
       "    </tr>\n",
       "  </tbody>\n",
       "</table>\n",
       "</div>"
      ],
      "text/plain": [
       "       Status     Acquisitn Type        origem                      chave\n",
       "0  In-Waiting   SC1801-CM-N   CM  DataBaseFile  In-Waiting-SC1801-CM-N-CM\n",
       "1    Intended   WA1803-CM-N   CM  DataBaseFile    Intended-WA1803-CM-N-CM\n",
       "2   Potential  WA19A - Oute   CM  DataBaseFile  Potential-WA19A - Oute-CM\n",
       "3   Potential  WA19B - Colu   CM  DataBaseFile  Potential-WA19B - Colu-CM\n",
       "4  In-Waiting   TX1901-CM-N   CM  DataBaseFile  In-Waiting-TX1901-CM-N-CM"
      ]
     },
     "execution_count": 9,
     "metadata": {},
     "output_type": "execute_result"
    }
   ],
   "source": [
    "df_comum_dbf_shp[\"chave\"] = (\n",
    "    df_comum_dbf_shp[\"Status\"]\n",
    "    + \"-\"\n",
    "    + df_comum_dbf_shp[\"Acquisitn\"]\n",
    "    + \"-\"\n",
    "    + df_comum_dbf_shp[\"Type\"]\n",
    ")\n",
    "df_comum_dbf_shp.info()\n",
    "df_comum_dbf_shp.head()"
   ]
  },
  {
   "cell_type": "code",
   "execution_count": 10,
   "metadata": {},
   "outputs": [
    {
     "name": "stdout",
     "output_type": "stream",
     "text": [
      "<class 'pandas.core.frame.DataFrame'>\n",
      "Index: 87 entries, 0 to 90\n",
      "Data columns (total 5 columns):\n",
      " #   Column     Non-Null Count  Dtype \n",
      "---  ------     --------------  ----- \n",
      " 0   Status     87 non-null     object\n",
      " 1   Acquisitn  87 non-null     object\n",
      " 2   Type       87 non-null     object\n",
      " 3   origem     87 non-null     object\n",
      " 4   chave      87 non-null     object\n",
      "dtypes: object(5)\n",
      "memory usage: 4.1+ KB\n"
     ]
    },
    {
     "data": {
      "text/html": [
       "<div>\n",
       "<style scoped>\n",
       "    .dataframe tbody tr th:only-of-type {\n",
       "        vertical-align: middle;\n",
       "    }\n",
       "\n",
       "    .dataframe tbody tr th {\n",
       "        vertical-align: top;\n",
       "    }\n",
       "\n",
       "    .dataframe thead th {\n",
       "        text-align: right;\n",
       "    }\n",
       "</style>\n",
       "<table border=\"1\" class=\"dataframe\">\n",
       "  <thead>\n",
       "    <tr style=\"text-align: right;\">\n",
       "      <th></th>\n",
       "      <th>Status</th>\n",
       "      <th>Acquisitn</th>\n",
       "      <th>Type</th>\n",
       "      <th>origem</th>\n",
       "      <th>chave</th>\n",
       "    </tr>\n",
       "  </thead>\n",
       "  <tbody>\n",
       "    <tr>\n",
       "      <th>0</th>\n",
       "      <td>In-Waiting</td>\n",
       "      <td>SC1801-CM-N</td>\n",
       "      <td>CM</td>\n",
       "      <td>DataBaseFile</td>\n",
       "      <td>In-Waiting-SC1801-CM-N-CM</td>\n",
       "    </tr>\n",
       "    <tr>\n",
       "      <th>1</th>\n",
       "      <td>Intended</td>\n",
       "      <td>WA1803-CM-N</td>\n",
       "      <td>CM</td>\n",
       "      <td>DataBaseFile</td>\n",
       "      <td>Intended-WA1803-CM-N-CM</td>\n",
       "    </tr>\n",
       "    <tr>\n",
       "      <th>2</th>\n",
       "      <td>Potential</td>\n",
       "      <td>WA19A - Oute</td>\n",
       "      <td>CM</td>\n",
       "      <td>DataBaseFile</td>\n",
       "      <td>Potential-WA19A - Oute-CM</td>\n",
       "    </tr>\n",
       "    <tr>\n",
       "      <th>3</th>\n",
       "      <td>Potential</td>\n",
       "      <td>WA19B - Colu</td>\n",
       "      <td>CM</td>\n",
       "      <td>DataBaseFile</td>\n",
       "      <td>Potential-WA19B - Colu-CM</td>\n",
       "    </tr>\n",
       "    <tr>\n",
       "      <th>4</th>\n",
       "      <td>In-Waiting</td>\n",
       "      <td>TX1901-CM-N</td>\n",
       "      <td>CM</td>\n",
       "      <td>DataBaseFile</td>\n",
       "      <td>In-Waiting-TX1901-CM-N-CM</td>\n",
       "    </tr>\n",
       "  </tbody>\n",
       "</table>\n",
       "</div>"
      ],
      "text/plain": [
       "       Status     Acquisitn Type        origem                      chave\n",
       "0  In-Waiting   SC1801-CM-N   CM  DataBaseFile  In-Waiting-SC1801-CM-N-CM\n",
       "1    Intended   WA1803-CM-N   CM  DataBaseFile    Intended-WA1803-CM-N-CM\n",
       "2   Potential  WA19A - Oute   CM  DataBaseFile  Potential-WA19A - Oute-CM\n",
       "3   Potential  WA19B - Colu   CM  DataBaseFile  Potential-WA19B - Colu-CM\n",
       "4  In-Waiting   TX1901-CM-N   CM  DataBaseFile  In-Waiting-TX1901-CM-N-CM"
      ]
     },
     "execution_count": 10,
     "metadata": {},
     "output_type": "execute_result"
    }
   ],
   "source": [
    "df_comum_dbf_shp = df_comum_dbf_shp.drop_duplicates(subset=\"chave\")\n",
    "df_comum_dbf_shp.info()\n",
    "df_comum_dbf_shp.head()"
   ]
  },
  {
   "cell_type": "markdown",
   "metadata": {},
   "source": [
    "Tanto o df_shapefile quanto o df_dados_tabulados trazem as mesmas informações e em relação as colunas 'Status', 'Acquisitn', 'Type'\n",
    "também temos 2 valores duplicados na mesma tabela, a qual será revisado se a combinação de 'Status', 'Acquisitn', 'Type' seria a uníca duplicidade ou o conteúdo na coluna 'geometry' também se repete\n"
   ]
  },
  {
   "cell_type": "code",
   "execution_count": null,
   "metadata": {},
   "outputs": [
    {
     "name": "stdout",
     "output_type": "stream",
     "text": [
      "Número de duplicados considerando 'geometry': 0\n",
      "Número de duplicados sem considerar 'geometry': 4\n",
      "Número de duplicados em 'acquisitin': 4\n"
     ]
    }
   ],
   "source": [
    "# Verificar duplicidades considerando todas as colunas\n",
    "duplicates_with_geometry = df_shapefile.duplicated(\n",
    "    subset=[\"Status\", \"Acquisitn\", \"Type\", \"geometry\"]\n",
    ")\n",
    "\n",
    "print(f\"Número de duplicados considerando 'geometry': {duplicates_with_geometry.sum()}\")\n",
    "\n",
    "# Verificar duplicidades nas colunas não-geométricas\n",
    "duplicates_non_geometry = df_shapefile.duplicated(\n",
    "    subset=[\"Status\", \"Acquisitn\", \"Type\"]\n",
    ")\n",
    "print(\n",
    "    f\"Número de duplicados sem considerar 'geometry': {duplicates_non_geometry.sum()}\"\n",
    ")\n",
    "\n",
    "# Verificar identificador se existe um código único\n",
    "duplicates_in_acquisitn = df_shapefile.duplicated(subset=[\"Acquisitn\"])\n",
    "print(f\"Número de duplicados em 'acquisitin': {duplicates_in_acquisitn.sum()}\")"
   ]
  },
  {
   "cell_type": "markdown",
   "metadata": {},
   "source": [
    "A duplicidade está na combinação das colunas 'Status', 'Acquisitn' e 'Type', a informação presente na coluna 'geometry' é diferente\n"
   ]
  },
  {
   "cell_type": "markdown",
   "metadata": {},
   "source": [
    "---\n",
    "\n",
    "#### arquivo .prj\n"
   ]
  },
  {
   "cell_type": "code",
   "execution_count": null,
   "metadata": {},
   "outputs": [
    {
     "name": "stdout",
     "output_type": "stream",
     "text": [
      "GEOGCS[\"GCS_North_American_1983\",DATUM[\"D_North_American_1983\",SPHEROID[\"GRS_1980\",6378137.0,298.257222101]],PRIMEM[\"Greenwich\",0.0],UNIT[\"Degree\",0.0174532925199433]]\n",
      "Coordenadas NAD83: (-100.123456, 40.987654)\n",
      "Coordenadas WGS84: (-100.123456, 40.987654)\n"
     ]
    }
   ],
   "source": [
    "with open(\"CUSP_IN_PROGRESS/CUSP_IN_PROGRESS.prj\", \"r\") as file:\n",
    "    prj_text = file.read()\n",
    "\n",
    "# Converter para CRS\n",
    "crs = CRS.from_wkt(prj_text)\n",
    "print(crs)\n",
    "\n",
    "# CRS destino (WGS84)\n",
    "crs_wgs84 = CRS.from_epsg(4326)  # EPSG:4326 para WGS84\n",
    "\n",
    "# Criar o transformer\n",
    "transformer = Transformer.from_crs(crs, crs_wgs84, always_xy=True)\n",
    "\n",
    "# Coordenadas no CRS NAD83 (exemplo: longitude, latitude)\n",
    "lon_nad83, lat_nad83 = -100.123456, 40.987654\n",
    "\n",
    "# Converter para WGS84\n",
    "lon_wgs84, lat_wgs84 = transformer.transform(lon_nad83, lat_nad83)\n",
    "\n",
    "# Exibir o resultado\n",
    "print(f\"Coordenadas NAD83: ({lon_nad83}, {lat_nad83})\")\n",
    "print(f\"Coordenadas WGS84: ({lon_wgs84}, {lat_wgs84})\")"
   ]
  },
  {
   "cell_type": "code",
   "execution_count": 13,
   "metadata": {},
   "outputs": [
    {
     "data": {
      "text/plain": [
       "<Geographic 2D CRS: EPSG:4269>\n",
       "Name: NAD83\n",
       "Axis Info [ellipsoidal]:\n",
       "- Lat[north]: Geodetic latitude (degree)\n",
       "- Lon[east]: Geodetic longitude (degree)\n",
       "Area of Use:\n",
       "- name: North America - onshore and offshore: Canada - Alberta; British Columbia; Manitoba; New Brunswick; Newfoundland and Labrador; Northwest Territories; Nova Scotia; Nunavut; Ontario; Prince Edward Island; Quebec; Saskatchewan; Yukon. Puerto Rico. United States (USA) - Alabama; Alaska; Arizona; Arkansas; California; Colorado; Connecticut; Delaware; Florida; Georgia; Hawaii; Idaho; Illinois; Indiana; Iowa; Kansas; Kentucky; Louisiana; Maine; Maryland; Massachusetts; Michigan; Minnesota; Mississippi; Missouri; Montana; Nebraska; Nevada; New Hampshire; New Jersey; New Mexico; New York; North Carolina; North Dakota; Ohio; Oklahoma; Oregon; Pennsylvania; Rhode Island; South Carolina; South Dakota; Tennessee; Texas; Utah; Vermont; Virginia; Washington; West Virginia; Wisconsin; Wyoming. US Virgin Islands. British Virgin Islands.\n",
       "- bounds: (167.65, 14.92, -40.73, 86.45)\n",
       "Datum: North American Datum 1983\n",
       "- Ellipsoid: GRS 1980\n",
       "- Prime Meridian: Greenwich"
      ]
     },
     "execution_count": 13,
     "metadata": {},
     "output_type": "execute_result"
    }
   ],
   "source": [
    "shapefile.crs"
   ]
  },
  {
   "cell_type": "code",
   "execution_count": 14,
   "metadata": {},
   "outputs": [
    {
     "data": {
      "text/plain": [
       "<Geographic 2D CRS: EPSG:4326>\n",
       "Name: WGS 84\n",
       "Axis Info [ellipsoidal]:\n",
       "- Lat[north]: Geodetic latitude (degree)\n",
       "- Lon[east]: Geodetic longitude (degree)\n",
       "Area of Use:\n",
       "- name: World.\n",
       "- bounds: (-180.0, -90.0, 180.0, 90.0)\n",
       "Datum: World Geodetic System 1984 ensemble\n",
       "- Ellipsoid: WGS 84\n",
       "- Prime Meridian: Greenwich"
      ]
     },
     "execution_count": 14,
     "metadata": {},
     "output_type": "execute_result"
    }
   ],
   "source": [
    "shapefile_wgs84 = shapefile.to_crs(\"EPSG:4326\")\n",
    "shapefile_wgs84.crs"
   ]
  },
  {
   "cell_type": "code",
   "execution_count": 15,
   "metadata": {},
   "outputs": [
    {
     "data": {
      "text/plain": [
       "<Axes: >"
      ]
     },
     "execution_count": 15,
     "metadata": {},
     "output_type": "execute_result"
    },
    {
     "data": {
      "image/png": "[encoded data removed]",
      "text/plain": [
       "<Figure size 640x480 with 1 Axes>"
      ]
     },
     "metadata": {},
     "output_type": "display_data"
    }
   ],
   "source": [
    "shapefile_wgs84.plot()"
   ]
  },
  {
   "cell_type": "markdown",
   "metadata": {},
   "source": [
    "---\n",
    "\n",
    "#### Arquivo .shx\n"
   ]
  },
  {
   "cell_type": "code",
   "execution_count": null,
   "metadata": {},
   "outputs": [
    {
     "name": "stdout",
     "output_type": "stream",
     "text": [
      "<class 'geopandas.geoseries.GeoSeries'>\n",
      "RangeIndex: 91 entries, 0 to 90\n",
      "Series name: geometry\n",
      "Non-Null Count  Dtype   \n",
      "--------------  -----   \n",
      "91 non-null     geometry\n",
      "dtypes: geometry(1)\n",
      "memory usage: 860.0 bytes\n"
     ]
    },
    {
     "data": {
      "text/plain": [
       "0    POLYGON ((-79.04048 33.7138, -79.04562 33.6915...\n",
       "1    MULTIPOLYGON (((-123.03763 48.99952, -123.0376...\n",
       "2    POLYGON ((-124.65259 48.39105, -124.63684 48.3...\n",
       "3    POLYGON ((-124.00725 46.26307, -123.9778 46.30...\n",
       "4    POLYGON ((-97.24819 27.92284, -97.24217 27.913...\n",
       "Name: geometry, dtype: geometry"
      ]
     },
     "execution_count": 16,
     "metadata": {},
     "output_type": "execute_result"
    }
   ],
   "source": [
    "indice_formas_geometricas = gpd.read_file(\"CUSP_IN_PROGRESS/CUSP_IN_PROGRESS.shx\")\n",
    "indice_formas_geometricas.geometry.info()\n",
    "indice_formas_geometricas.geometry.head()"
   ]
  }
 ],
 "metadata": {
  "kernelspec": {
   "display_name": "Python 3",
   "language": "python",
   "name": "python3"
  },
  "language_info": {
   "codemirror_mode": {
    "name": "ipython",
    "version": 3
   },
   "file_extension": ".py",
   "mimetype": "text/x-python",
   "name": "python",
   "nbconvert_exporter": "python",
   "pygments_lexer": "ipython3",
   "version": "3.13.0"
  }
 },
 "nbformat": 4,
 "nbformat_minor": 2
}
