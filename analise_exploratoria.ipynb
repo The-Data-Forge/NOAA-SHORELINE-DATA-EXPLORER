{
 "cells": [
  {
   "cell_type": "code",
   "execution_count": 4,
   "metadata": {},
   "outputs": [],
   "source": [
    "# !pip install pandas\n",
    "# !pip install geopandas\n",
    "# !pip install matplotlib"
   ]
  },
  {
   "cell_type": "code",
   "execution_count": 7,
   "metadata": {},
   "outputs": [],
   "source": [
    "import pandas as pd\n",
    "import geopandas as gpd\n",
    "import matplotlib"
   ]
  },
  {
   "cell_type": "code",
   "execution_count": 14,
   "metadata": {},
   "outputs": [
    {
     "name": "stdout",
     "output_type": "stream",
     "text": [
      "<class 'geopandas.geodataframe.GeoDataFrame'>\n",
      "RangeIndex: 91 entries, 0 to 90\n",
      "Data columns (total 4 columns):\n",
      " #   Column     Non-Null Count  Dtype   \n",
      "---  ------     --------------  -----   \n",
      " 0   Status     91 non-null     object  \n",
      " 1   Acquisitn  91 non-null     object  \n",
      " 2   Type       91 non-null     object  \n",
      " 3   geometry   91 non-null     geometry\n",
      "dtypes: geometry(1), object(3)\n",
      "memory usage: 3.0+ KB\n"
     ]
    }
   ],
   "source": [
    "shapefile = gpd.read_file('CUSP_IN_PROGRESS/CUSP_IN_PROGRESS.shp')\n",
    "shapefile.info()\n"
   ]
  },
  {
   "cell_type": "code",
   "execution_count": null,
   "metadata": {},
   "outputs": [],
   "source": [
    "dado_tabulados = gpd.read_file('CUSP_IN_PROGRESS/CUSP_IN_PROGRESS.dbf')\n",
    "indice_formas_geometricas = gpd.read_file('CUSP_IN_PROGRESS/CUSP_IN_PROGRESS.shx')\n",
    "coordenadas = gpd.read_file('CUSP_IN_PROGRESS/CUSP_IN_PROGRESS.prj')"
   ]
  }
 ],
 "metadata": {
  "kernelspec": {
   "display_name": "Python 3",
   "language": "python",
   "name": "python3"
  },
  "language_info": {
   "codemirror_mode": {
    "name": "ipython",
    "version": 3
   },
   "file_extension": ".py",
   "mimetype": "text/x-python",
   "name": "python",
   "nbconvert_exporter": "python",
   "pygments_lexer": "ipython3",
   "version": "3.13.0"
  }
 },
 "nbformat": 4,
 "nbformat_minor": 2
}
